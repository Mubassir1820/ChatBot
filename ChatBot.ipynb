{
  "cells": [
    {
      "cell_type": "markdown",
      "metadata": {
        "id": "view-in-github",
        "colab_type": "text"
      },
      "source": [
        "<a href=\"https://colab.research.google.com/github/Mubassir1820/ChatBot/blob/main/ChatBot.ipynb\" target=\"_parent\"><img src=\"https://colab.research.google.com/assets/colab-badge.svg\" alt=\"Open In Colab\"/></a>"
      ]
    },
    {
      "cell_type": "code",
      "execution_count": null,
      "metadata": {
        "id": "7fpIG4RPBv3k"
      },
      "outputs": [],
      "source": [
        "# This is a smart chatBot program"
      ]
    },
    {
      "cell_type": "code",
      "execution_count": null,
      "metadata": {
        "colab": {
          "base_uri": "https://localhost:8080/"
        },
        "id": "xM8QB23oDgEb",
        "outputId": "3fda031e-5c77-4721-c1f0-1f9704a30a02"
      },
      "outputs": [
        {
          "name": "stdout",
          "output_type": "stream",
          "text": [
            "Looking in indexes: https://pypi.org/simple, https://us-python.pkg.dev/colab-wheels/public/simple/\n",
            "Requirement already satisfied: nltk in /usr/local/lib/python3.9/dist-packages (3.8.1)\n",
            "Requirement already satisfied: regex>=2021.8.3 in /usr/local/lib/python3.9/dist-packages (from nltk) (2022.10.31)\n",
            "Requirement already satisfied: tqdm in /usr/local/lib/python3.9/dist-packages (from nltk) (4.65.0)\n",
            "Requirement already satisfied: joblib in /usr/local/lib/python3.9/dist-packages (from nltk) (1.2.0)\n",
            "Requirement already satisfied: click in /usr/local/lib/python3.9/dist-packages (from nltk) (8.1.3)\n"
          ]
        }
      ],
      "source": [
        "pip install nltk"
      ]
    },
    {
      "cell_type": "code",
      "execution_count": null,
      "metadata": {
        "colab": {
          "base_uri": "https://localhost:8080/"
        },
        "id": "zY0PWedyDnhv",
        "outputId": "6cb41c23-c4b6-4912-c71f-348dbd78b128"
      },
      "outputs": [
        {
          "name": "stdout",
          "output_type": "stream",
          "text": [
            "Looking in indexes: https://pypi.org/simple, https://us-python.pkg.dev/colab-wheels/public/simple/\n",
            "Collecting newspaper3k\n",
            "  Downloading newspaper3k-0.2.8-py3-none-any.whl (211 kB)\n",
            "\u001b[2K     \u001b[90m━━━━━━━━━━━━━━━━━━━━━━━━━━━━━━━━━━━━━━━\u001b[0m \u001b[32m211.1/211.1 kB\u001b[0m \u001b[31m5.3 MB/s\u001b[0m eta \u001b[36m0:00:00\u001b[0m\n",
            "\u001b[?25hCollecting tinysegmenter==0.3\n",
            "  Downloading tinysegmenter-0.3.tar.gz (16 kB)\n",
            "  Preparing metadata (setup.py) ... \u001b[?25l\u001b[?25hdone\n",
            "Collecting feedfinder2>=0.0.4\n",
            "  Downloading feedfinder2-0.0.4.tar.gz (3.3 kB)\n",
            "  Preparing metadata (setup.py) ... \u001b[?25l\u001b[?25hdone\n",
            "Collecting jieba3k>=0.35.1\n",
            "  Downloading jieba3k-0.35.1.zip (7.4 MB)\n",
            "\u001b[2K     \u001b[90m━━━━━━━━━━━━━━━━━━━━━━━━━━━━━━━━━━━━━━━━\u001b[0m \u001b[32m7.4/7.4 MB\u001b[0m \u001b[31m54.0 MB/s\u001b[0m eta \u001b[36m0:00:00\u001b[0m\n",
            "\u001b[?25h  Preparing metadata (setup.py) ... \u001b[?25l\u001b[?25hdone\n",
            "Collecting cssselect>=0.9.2\n",
            "  Downloading cssselect-1.2.0-py2.py3-none-any.whl (18 kB)\n",
            "Requirement already satisfied: Pillow>=3.3.0 in /usr/local/lib/python3.9/dist-packages (from newspaper3k) (8.4.0)\n",
            "Requirement already satisfied: beautifulsoup4>=4.4.1 in /usr/local/lib/python3.9/dist-packages (from newspaper3k) (4.11.2)\n",
            "Requirement already satisfied: PyYAML>=3.11 in /usr/local/lib/python3.9/dist-packages (from newspaper3k) (6.0)\n",
            "Requirement already satisfied: nltk>=3.2.1 in /usr/local/lib/python3.9/dist-packages (from newspaper3k) (3.8.1)\n",
            "Collecting tldextract>=2.0.1\n",
            "  Downloading tldextract-3.4.0-py3-none-any.whl (93 kB)\n",
            "\u001b[2K     \u001b[90m━━━━━━━━━━━━━━━━━━━━━━━━━━━━━━━━━━━━━━━━\u001b[0m \u001b[32m93.9/93.9 kB\u001b[0m \u001b[31m12.1 MB/s\u001b[0m eta \u001b[36m0:00:00\u001b[0m\n",
            "\u001b[?25hRequirement already satisfied: requests>=2.10.0 in /usr/local/lib/python3.9/dist-packages (from newspaper3k) (2.27.1)\n",
            "Collecting feedparser>=5.2.1\n",
            "  Downloading feedparser-6.0.10-py3-none-any.whl (81 kB)\n",
            "\u001b[2K     \u001b[90m━━━━━━━━━━━━━━━━━━━━━━━━━━━━━━━━━━━━━━━━\u001b[0m \u001b[32m81.1/81.1 kB\u001b[0m \u001b[31m10.1 MB/s\u001b[0m eta \u001b[36m0:00:00\u001b[0m\n",
            "\u001b[?25hRequirement already satisfied: python-dateutil>=2.5.3 in /usr/local/lib/python3.9/dist-packages (from newspaper3k) (2.8.2)\n",
            "Requirement already satisfied: lxml>=3.6.0 in /usr/local/lib/python3.9/dist-packages (from newspaper3k) (4.9.2)\n",
            "Requirement already satisfied: soupsieve>1.2 in /usr/local/lib/python3.9/dist-packages (from beautifulsoup4>=4.4.1->newspaper3k) (2.4)\n",
            "Requirement already satisfied: six in /usr/local/lib/python3.9/dist-packages (from feedfinder2>=0.0.4->newspaper3k) (1.16.0)\n",
            "Collecting sgmllib3k\n",
            "  Downloading sgmllib3k-1.0.0.tar.gz (5.8 kB)\n",
            "  Preparing metadata (setup.py) ... \u001b[?25l\u001b[?25hdone\n",
            "Requirement already satisfied: joblib in /usr/local/lib/python3.9/dist-packages (from nltk>=3.2.1->newspaper3k) (1.2.0)\n",
            "Requirement already satisfied: regex>=2021.8.3 in /usr/local/lib/python3.9/dist-packages (from nltk>=3.2.1->newspaper3k) (2022.10.31)\n",
            "Requirement already satisfied: click in /usr/local/lib/python3.9/dist-packages (from nltk>=3.2.1->newspaper3k) (8.1.3)\n",
            "Requirement already satisfied: tqdm in /usr/local/lib/python3.9/dist-packages (from nltk>=3.2.1->newspaper3k) (4.65.0)\n",
            "Requirement already satisfied: idna<4,>=2.5 in /usr/local/lib/python3.9/dist-packages (from requests>=2.10.0->newspaper3k) (3.4)\n",
            "Requirement already satisfied: certifi>=2017.4.17 in /usr/local/lib/python3.9/dist-packages (from requests>=2.10.0->newspaper3k) (2022.12.7)\n",
            "Requirement already satisfied: charset-normalizer~=2.0.0 in /usr/local/lib/python3.9/dist-packages (from requests>=2.10.0->newspaper3k) (2.0.12)\n",
            "Requirement already satisfied: urllib3<1.27,>=1.21.1 in /usr/local/lib/python3.9/dist-packages (from requests>=2.10.0->newspaper3k) (1.26.15)\n",
            "Requirement already satisfied: filelock>=3.0.8 in /usr/local/lib/python3.9/dist-packages (from tldextract>=2.0.1->newspaper3k) (3.11.0)\n",
            "Collecting requests-file>=1.4\n",
            "  Downloading requests_file-1.5.1-py2.py3-none-any.whl (3.7 kB)\n",
            "Building wheels for collected packages: tinysegmenter, feedfinder2, jieba3k, sgmllib3k\n",
            "  Building wheel for tinysegmenter (setup.py) ... \u001b[?25l\u001b[?25hdone\n",
            "  Created wheel for tinysegmenter: filename=tinysegmenter-0.3-py3-none-any.whl size=13552 sha256=6f58ab321a5881ab51da6174e3be170c0e3c6a4845d1d23c18fa7cd293ed5a3d\n",
            "  Stored in directory: /root/.cache/pip/wheels/94/ad/df/a2a01300cea47d5695f242f7e925a805970106fd9e4b151468\n",
            "  Building wheel for feedfinder2 (setup.py) ... \u001b[?25l\u001b[?25hdone\n",
            "  Created wheel for feedfinder2: filename=feedfinder2-0.0.4-py3-none-any.whl size=3356 sha256=34578f083fbbf6acdca8b5d481a4c5a92dbdebff12fbd48f249d3e38e8355035\n",
            "  Stored in directory: /root/.cache/pip/wheels/43/4a/c2/61a371b2524ac90805391c660d8dc4505705297f25e2b85a5d\n",
            "  Building wheel for jieba3k (setup.py) ... \u001b[?25l\u001b[?25hdone\n",
            "  Created wheel for jieba3k: filename=jieba3k-0.35.1-py3-none-any.whl size=7398404 sha256=cfc3b816975e8c4d801adbb5d718cb2c559e61f62b03796c773b53a4bc9df773\n",
            "  Stored in directory: /root/.cache/pip/wheels/c2/22/59/8214a8d6357e9f540ce1f37f9a4362b6156b4ca81b37f1945f\n",
            "  Building wheel for sgmllib3k (setup.py) ... \u001b[?25l\u001b[?25hdone\n",
            "  Created wheel for sgmllib3k: filename=sgmllib3k-1.0.0-py3-none-any.whl size=6065 sha256=6c9ba6bb4e260657ba5d878e7ee7ade141e2eae422160cdd8edf362689ac8237\n",
            "  Stored in directory: /root/.cache/pip/wheels/65/7a/a7/78c287f64e401255dff4c13fdbc672fed5efbfd21c530114e1\n",
            "Successfully built tinysegmenter feedfinder2 jieba3k sgmllib3k\n",
            "Installing collected packages: tinysegmenter, sgmllib3k, jieba3k, feedparser, cssselect, requests-file, feedfinder2, tldextract, newspaper3k\n",
            "Successfully installed cssselect-1.2.0 feedfinder2-0.0.4 feedparser-6.0.10 jieba3k-0.35.1 newspaper3k-0.2.8 requests-file-1.5.1 sgmllib3k-1.0.0 tinysegmenter-0.3 tldextract-3.4.0\n"
          ]
        }
      ],
      "source": [
        "pip install newspaper3k"
      ]
    },
    {
      "cell_type": "code",
      "execution_count": null,
      "metadata": {
        "id": "3ZjFFvahDw1i"
      },
      "outputs": [],
      "source": [
        "#import the libraries\n",
        "from newspaper import Article\n",
        "import random\n",
        "import string\n",
        "import nltk\n",
        "from sklearn.feature_extraction.text import CountVectorizer\n",
        "from sklearn.metrics.pairwise import cosine_similarity\n",
        "import warnings\n",
        "warnings.filterwarnings('ignore')"
      ]
    },
    {
      "cell_type": "code",
      "execution_count": null,
      "metadata": {
        "colab": {
          "base_uri": "https://localhost:8080/"
        },
        "id": "dre1kwfCE0Rb",
        "outputId": "58495b80-6312-4313-da68-8f4fb746226e"
      },
      "outputs": [
        {
          "data": {
            "text/plain": [
              "True"
            ]
          },
          "execution_count": 5,
          "metadata": {},
          "output_type": "execute_result"
        }
      ],
      "source": [
        "#Download the punkt package\n",
        "nltk.download('punkt', quiet = True )"
      ]
    },
    {
      "cell_type": "code",
      "execution_count": null,
      "metadata": {
        "id": "-oqrcWkTF9zw"
      },
      "outputs": [],
      "source": [
        "#Get the article\n",
        "article = Article('https://oceanservice.noaa.gov/facts/bermudatri.html')\n",
        "article.download()\n",
        "article.parse()\n",
        "article.nlp()\n",
        "corpus = article.text"
      ]
    },
    {
      "cell_type": "code",
      "execution_count": null,
      "metadata": {
        "colab": {
          "base_uri": "https://localhost:8080/"
        },
        "id": "bxBvzpc8HJMk",
        "outputId": "6c6b11e8-da47-4d22-f440-aad80a7c5234"
      },
      "outputs": [
        {
          "name": "stdout",
          "output_type": "stream",
          "text": [
            "This map shows the general location of the infamous Bermuda Triangle.\n",
            "\n",
            "For decades, the Atlantic Ocean’s fabled Bermuda Triangle has captured the human imagination with unexplained disappearances of ships, planes, and people.\n",
            "\n",
            "Some speculate that unknown and mysterious forces account for the unexplained disappearances, such as extraterrestrials capturing humans for study; the influence of the lost continent of Atlantis; vortices that suck objects into other dimensions; and other whimsical ideas. Some explanations are more grounded in science, if not in evidence. These include oceanic flatulence (methane gas erupting from ocean sediments) and disruptions in geomagnetic lines of flux.\n",
            "\n",
            "Environmental considerations could explain many, if not most, of the disappearances. The majority of Atlantic tropical storms and hurricanes pass through the Bermuda Triangle, and in the days prior to improved weather forecasting, these dangerous storms claimed many ships. Also, the Gulf Stream can cause rapid, sometimes violent, changes in weather. Additionally, the large number of islands in the Caribbean Sea creates many areas of shallow water that can be treacherous to ship navigation. And there is some evidence to suggest that the Bermuda Triangle is a place where a “magnetic” compass sometimes points towards “true” north, as opposed to “magnetic” north.\n",
            "\n",
            "The U.S. Navy and U.S. Coast Guard contend that there are no supernatural explanations for disasters at sea. Their experience suggests that the combined forces of nature and human fallibility outdo even the most incredulous science fiction. They add that no official maps exist that delineate the boundaries of the Bermuda Triangle. The U. S. Board of Geographic Names does not recognize the Bermuda Triangle as an official name and does not maintain an official file on the area.\n",
            "\n",
            "The ocean has always been a mysterious place to humans, and when foul weather or poor navigation is involved, it can be a very deadly place. This is true all over the world. There is no evidence that mysterious disappearances occur with any greater frequency in the Bermuda Triangle than in any other large, well-traveled area of the ocean.\n",
            "\n",
            "This text of this Ocean Fact was posted on January 4, 2010, and has not been altered since then.\n"
          ]
        }
      ],
      "source": [
        "#print the articles text\n",
        "print(corpus)"
      ]
    },
    {
      "cell_type": "code",
      "execution_count": null,
      "metadata": {
        "id": "JfJ98qA4HsPp"
      },
      "outputs": [],
      "source": [
        "#tokenization\n",
        "text = corpus\n",
        "sentence_list = nltk.sent_tokenize(text) #A list of sentences"
      ]
    },
    {
      "cell_type": "code",
      "execution_count": null,
      "metadata": {
        "colab": {
          "base_uri": "https://localhost:8080/"
        },
        "id": "JTKwZOQFM3ZJ",
        "outputId": "0b50e925-34c9-4003-8731-97326e83c0a4"
      },
      "outputs": [
        {
          "name": "stdout",
          "output_type": "stream",
          "text": [
            "['This map shows the general location of the infamous Bermuda Triangle.', 'For decades, the Atlantic Ocean’s fabled Bermuda Triangle has captured the human imagination with unexplained disappearances of ships, planes, and people.', 'Some speculate that unknown and mysterious forces account for the unexplained disappearances, such as extraterrestrials capturing humans for study; the influence of the lost continent of Atlantis; vortices that suck objects into other dimensions; and other whimsical ideas.', 'Some explanations are more grounded in science, if not in evidence.', 'These include oceanic flatulence (methane gas erupting from ocean sediments) and disruptions in geomagnetic lines of flux.', 'Environmental considerations could explain many, if not most, of the disappearances.', 'The majority of Atlantic tropical storms and hurricanes pass through the Bermuda Triangle, and in the days prior to improved weather forecasting, these dangerous storms claimed many ships.', 'Also, the Gulf Stream can cause rapid, sometimes violent, changes in weather.', 'Additionally, the large number of islands in the Caribbean Sea creates many areas of shallow water that can be treacherous to ship navigation.', 'And there is some evidence to suggest that the Bermuda Triangle is a place where a “magnetic” compass sometimes points towards “true” north, as opposed to “magnetic” north.', 'The U.S. Navy and U.S. Coast Guard contend that there are no supernatural explanations for disasters at sea.', 'Their experience suggests that the combined forces of nature and human fallibility outdo even the most incredulous science fiction.', 'They add that no official maps exist that delineate the boundaries of the Bermuda Triangle.', 'The U. S. Board of Geographic Names does not recognize the Bermuda Triangle as an official name and does not maintain an official file on the area.', 'The ocean has always been a mysterious place to humans, and when foul weather or poor navigation is involved, it can be a very deadly place.', 'This is true all over the world.', 'There is no evidence that mysterious disappearances occur with any greater frequency in the Bermuda Triangle than in any other large, well-traveled area of the ocean.', 'This text of this Ocean Fact was posted on January 4, 2010, and has not been altered since then.']\n"
          ]
        }
      ],
      "source": [
        "#print the list of sentences\n",
        "print(sentence_list)"
      ]
    },
    {
      "cell_type": "code",
      "execution_count": null,
      "metadata": {
        "id": "XvEflCKjNAvL"
      },
      "outputs": [],
      "source": [
        "#Fucntion to response users greeting\n",
        "def greeting_response(text):\n",
        "  text = text.lower()\n",
        "\n",
        "  #Bot greeting response\n",
        "  bot_greetings = ['howdy', 'hi', 'hello','hey','hola']\n",
        "  #user greeting\n",
        "  user_greetings = ['hi','hey','hello','hola','greetings','wassup']\n",
        "\n",
        "  for word in text.split():\n",
        "    if word in user_greetings:\n",
        "      return random.choice(bot_greetings)"
      ]
    },
    {
      "cell_type": "code",
      "execution_count": null,
      "metadata": {
        "id": "Y1ydaZZCtzZ_"
      },
      "outputs": [],
      "source": [
        "def index_sort(list_var):\n",
        "  length = len(list_var)\n",
        "  list_index = list(range(0, length))\n",
        "\n",
        "  x = list_var\n",
        "  for i in range(length):\n",
        "    for j in range(length):\n",
        "      if x[list_index[i]] > x[list_index[j]]:\n",
        "        #swap\n",
        "        temp = list_index[i]\n",
        "        list_index[i] = list_index[j]\n",
        "        list_index[j] = temp\n",
        "  \n",
        "  return list_index"
      ]
    },
    {
      "cell_type": "code",
      "execution_count": null,
      "metadata": {
        "id": "DIdi03s4KFqQ"
      },
      "outputs": [],
      "source": [
        "#create the bot response\n",
        "def bot_response(user_input):\n",
        "  user_input = user_input.lower()\n",
        "  sentence_list.append(user_input)\n",
        "  bot_response = ''\n",
        "  cm = CountVectorizer().fit_transform(sentence_list)\n",
        "  similarity_scores = cosine_similarity(cm[-1], cm)\n",
        "  similarity_scores_list = similarity_scores.flatten()\n",
        "  index = index_sort(similarity_scores_list)\n",
        "  index = index[1:]\n",
        "  response_flag = 0\n",
        "\n",
        "  j = 0\n",
        "  for i in range(len(index)):\n",
        "    if similarity_scores_list[index[i]] > 0.0:\n",
        "      bot_response = bot_response + ' ' + sentence_list[index[i]]\n",
        "      response_flag = 1\n",
        "      j = j+1\n",
        "    if j > 2:\n",
        "      break\n",
        "\n",
        "  if response_flag == 0:\n",
        "    bot_response = bot_response + ' ' + 'I apologize, I dont understand.'\n",
        "\n",
        "  sentence_list.remove(user_input)\n",
        "\n",
        "  return bot_response"
      ]
    },
    {
      "cell_type": "code",
      "execution_count": 14,
      "metadata": {
        "colab": {
          "base_uri": "https://localhost:8080/",
          "height": 713
        },
        "id": "DmXBQslkyQv5",
        "outputId": "0eea9f2b-02ee-4e51-a596-4a4df08ed3cf"
      },
      "outputs": [
        {
          "metadata": {
            "tags": null
          },
          "name": "stdout",
          "output_type": "stream",
          "text": [
            "DOC BOT: I am Doctor Bot and I will answer your queries. If you want to exit, type bye\n",
            "Doc Bot: hola\n",
            "Doc Bot:  This map shows the general location of the infamous Bermuda Triangle. They add that no official maps exist that delineate the boundaries of the Bermuda Triangle. The majority of Atlantic tropical storms and hurricanes pass through the Bermuda Triangle, and in the days prior to improved weather forecasting, these dangerous storms claimed many ships.\n",
            "Doc Bot:  The U.S. Navy and U.S. Coast Guard contend that there are no supernatural explanations for disasters at sea. The U. S. Board of Geographic Names does not recognize the Bermuda Triangle as an official name and does not maintain an official file on the area. The majority of Atlantic tropical storms and hurricanes pass through the Bermuda Triangle, and in the days prior to improved weather forecasting, these dangerous storms claimed many ships.\n",
            "Doc Bot:  The U. S. Board of Geographic Names does not recognize the Bermuda Triangle as an official name and does not maintain an official file on the area. The majority of Atlantic tropical storms and hurricanes pass through the Bermuda Triangle, and in the days prior to improved weather forecasting, these dangerous storms claimed many ships. The U.S. Navy and U.S. Coast Guard contend that there are no supernatural explanations for disasters at sea.\n",
            "Doc Bot:  The U. S. Board of Geographic Names does not recognize the Bermuda Triangle as an official name and does not maintain an official file on the area. The majority of Atlantic tropical storms and hurricanes pass through the Bermuda Triangle, and in the days prior to improved weather forecasting, these dangerous storms claimed many ships. This map shows the general location of the infamous Bermuda Triangle.\n",
            "Doc Bot:  And there is some evidence to suggest that the Bermuda Triangle is a place where a “magnetic” compass sometimes points towards “true” north, as opposed to “magnetic” north. There is no evidence that mysterious disappearances occur with any greater frequency in the Bermuda Triangle than in any other large, well-traveled area of the ocean. Some explanations are more grounded in science, if not in evidence.\n",
            "Doc Bot:  This map shows the general location of the infamous Bermuda Triangle. They add that no official maps exist that delineate the boundaries of the Bermuda Triangle. There is no evidence that mysterious disappearances occur with any greater frequency in the Bermuda Triangle than in any other large, well-traveled area of the ocean.\n",
            "Doc Bot:  This map shows the general location of the infamous Bermuda Triangle. They add that no official maps exist that delineate the boundaries of the Bermuda Triangle. For decades, the Atlantic Ocean’s fabled Bermuda Triangle has captured the human imagination with unexplained disappearances of ships, planes, and people.\n",
            "Doc Bot:  There is no evidence that mysterious disappearances occur with any greater frequency in the Bermuda Triangle than in any other large, well-traveled area of the ocean. Some explanations are more grounded in science, if not in evidence. And there is some evidence to suggest that the Bermuda Triangle is a place where a “magnetic” compass sometimes points towards “true” north, as opposed to “magnetic” north.\n",
            "Doc Bot:  The majority of Atlantic tropical storms and hurricanes pass through the Bermuda Triangle, and in the days prior to improved weather forecasting, these dangerous storms claimed many ships. For decades, the Atlantic Ocean’s fabled Bermuda Triangle has captured the human imagination with unexplained disappearances of ships, planes, and people. And there is some evidence to suggest that the Bermuda Triangle is a place where a “magnetic” compass sometimes points towards “true” north, as opposed to “magnetic” north.\n",
            "Doc Bot:  The majority of Atlantic tropical storms and hurricanes pass through the Bermuda Triangle, and in the days prior to improved weather forecasting, these dangerous storms claimed many ships. For decades, the Atlantic Ocean’s fabled Bermuda Triangle has captured the human imagination with unexplained disappearances of ships, planes, and people. And there is some evidence to suggest that the Bermuda Triangle is a place where a “magnetic” compass sometimes points towards “true” north, as opposed to “magnetic” north.\n",
            "Doc Bot:  And there is some evidence to suggest that the Bermuda Triangle is a place where a “magnetic” compass sometimes points towards “true” north, as opposed to “magnetic” north. This is true all over the world. The ocean has always been a mysterious place to humans, and when foul weather or poor navigation is involved, it can be a very deadly place.\n",
            "Doc Bot:  And there is some evidence to suggest that the Bermuda Triangle is a place where a “magnetic” compass sometimes points towards “true” north, as opposed to “magnetic” north. Some explanations are more grounded in science, if not in evidence. There is no evidence that mysterious disappearances occur with any greater frequency in the Bermuda Triangle than in any other large, well-traveled area of the ocean.\n",
            "Doc Bot:  This map shows the general location of the infamous Bermuda Triangle. For decades, the Atlantic Ocean’s fabled Bermuda Triangle has captured the human imagination with unexplained disappearances of ships, planes, and people. They add that no official maps exist that delineate the boundaries of the Bermuda Triangle.\n",
            "Doc Bot:  This map shows the general location of the infamous Bermuda Triangle. They add that no official maps exist that delineate the boundaries of the Bermuda Triangle. For decades, the Atlantic Ocean’s fabled Bermuda Triangle has captured the human imagination with unexplained disappearances of ships, planes, and people.\n",
            "Doc Bot:  I apologize, I dont understand.\n",
            "Doc Bot:  The ocean has always been a mysterious place to humans, and when foul weather or poor navigation is involved, it can be a very deadly place. This map shows the general location of the infamous Bermuda Triangle. The majority of Atlantic tropical storms and hurricanes pass through the Bermuda Triangle, and in the days prior to improved weather forecasting, these dangerous storms claimed many ships.\n"
          ]
        },
        {
          "output_type": "error",
          "ename": "KeyboardInterrupt",
          "evalue": "ignored",
          "traceback": [
            "\u001b[0;31m---------------------------------------------------------------------------\u001b[0m",
            "\u001b[0;31mKeyboardInterrupt\u001b[0m                         Traceback (most recent call last)",
            "\u001b[0;32m<ipython-input-14-8b61291410f4>\u001b[0m in \u001b[0;36m<cell line: 6>\u001b[0;34m()\u001b[0m\n\u001b[1;32m      4\u001b[0m \u001b[0mexit_list\u001b[0m \u001b[0;34m=\u001b[0m \u001b[0;34m[\u001b[0m\u001b[0;34m'exit'\u001b[0m\u001b[0;34m,\u001b[0m\u001b[0;34m'see you later'\u001b[0m\u001b[0;34m,\u001b[0m \u001b[0;34m'bye'\u001b[0m\u001b[0;34m,\u001b[0m \u001b[0;34m'quit'\u001b[0m\u001b[0;34m,\u001b[0m \u001b[0;34m'break'\u001b[0m\u001b[0;34m]\u001b[0m\u001b[0;34m\u001b[0m\u001b[0;34m\u001b[0m\u001b[0m\n\u001b[1;32m      5\u001b[0m \u001b[0;32mwhile\u001b[0m\u001b[0;34m(\u001b[0m\u001b[0;32mTrue\u001b[0m\u001b[0;34m)\u001b[0m\u001b[0;34m:\u001b[0m\u001b[0;34m\u001b[0m\u001b[0;34m\u001b[0m\u001b[0m\n\u001b[0;32m----> 6\u001b[0;31m   \u001b[0muser_input\u001b[0m \u001b[0;34m=\u001b[0m \u001b[0minput\u001b[0m\u001b[0;34m(\u001b[0m\u001b[0;34m)\u001b[0m\u001b[0;34m\u001b[0m\u001b[0;34m\u001b[0m\u001b[0m\n\u001b[0m\u001b[1;32m      7\u001b[0m   \u001b[0;32mif\u001b[0m \u001b[0muser_input\u001b[0m\u001b[0;34m.\u001b[0m\u001b[0mlower\u001b[0m\u001b[0;34m(\u001b[0m\u001b[0;34m)\u001b[0m \u001b[0;32min\u001b[0m \u001b[0mexit_list\u001b[0m\u001b[0;34m:\u001b[0m\u001b[0;34m\u001b[0m\u001b[0;34m\u001b[0m\u001b[0m\n\u001b[1;32m      8\u001b[0m     \u001b[0mprint\u001b[0m\u001b[0;34m(\u001b[0m\u001b[0;34m'Doc Bot: Chat with you later'\u001b[0m\u001b[0;34m)\u001b[0m\u001b[0;34m\u001b[0m\u001b[0;34m\u001b[0m\u001b[0m\n",
            "\u001b[0;32m/usr/local/lib/python3.9/dist-packages/ipykernel/kernelbase.py\u001b[0m in \u001b[0;36mraw_input\u001b[0;34m(self, prompt)\u001b[0m\n\u001b[1;32m    849\u001b[0m                 \u001b[0;34m\"raw_input was called, but this frontend does not support input requests.\"\u001b[0m\u001b[0;34m\u001b[0m\u001b[0;34m\u001b[0m\u001b[0m\n\u001b[1;32m    850\u001b[0m             )\n\u001b[0;32m--> 851\u001b[0;31m         return self._input_request(str(prompt),\n\u001b[0m\u001b[1;32m    852\u001b[0m             \u001b[0mself\u001b[0m\u001b[0;34m.\u001b[0m\u001b[0m_parent_ident\u001b[0m\u001b[0;34m,\u001b[0m\u001b[0;34m\u001b[0m\u001b[0;34m\u001b[0m\u001b[0m\n\u001b[1;32m    853\u001b[0m             \u001b[0mself\u001b[0m\u001b[0;34m.\u001b[0m\u001b[0m_parent_header\u001b[0m\u001b[0;34m,\u001b[0m\u001b[0;34m\u001b[0m\u001b[0;34m\u001b[0m\u001b[0m\n",
            "\u001b[0;32m/usr/local/lib/python3.9/dist-packages/ipykernel/kernelbase.py\u001b[0m in \u001b[0;36m_input_request\u001b[0;34m(self, prompt, ident, parent, password)\u001b[0m\n\u001b[1;32m    893\u001b[0m             \u001b[0;32mexcept\u001b[0m \u001b[0mKeyboardInterrupt\u001b[0m\u001b[0;34m:\u001b[0m\u001b[0;34m\u001b[0m\u001b[0;34m\u001b[0m\u001b[0m\n\u001b[1;32m    894\u001b[0m                 \u001b[0;31m# re-raise KeyboardInterrupt, to truncate traceback\u001b[0m\u001b[0;34m\u001b[0m\u001b[0;34m\u001b[0m\u001b[0m\n\u001b[0;32m--> 895\u001b[0;31m                 \u001b[0;32mraise\u001b[0m \u001b[0mKeyboardInterrupt\u001b[0m\u001b[0;34m(\u001b[0m\u001b[0;34m\"Interrupted by user\"\u001b[0m\u001b[0;34m)\u001b[0m \u001b[0;32mfrom\u001b[0m \u001b[0;32mNone\u001b[0m\u001b[0;34m\u001b[0m\u001b[0;34m\u001b[0m\u001b[0m\n\u001b[0m\u001b[1;32m    896\u001b[0m             \u001b[0;32mexcept\u001b[0m \u001b[0mException\u001b[0m \u001b[0;32mas\u001b[0m \u001b[0me\u001b[0m\u001b[0;34m:\u001b[0m\u001b[0;34m\u001b[0m\u001b[0;34m\u001b[0m\u001b[0m\n\u001b[1;32m    897\u001b[0m                 \u001b[0mself\u001b[0m\u001b[0;34m.\u001b[0m\u001b[0mlog\u001b[0m\u001b[0;34m.\u001b[0m\u001b[0mwarning\u001b[0m\u001b[0;34m(\u001b[0m\u001b[0;34m\"Invalid Message:\"\u001b[0m\u001b[0;34m,\u001b[0m \u001b[0mexc_info\u001b[0m\u001b[0;34m=\u001b[0m\u001b[0;32mTrue\u001b[0m\u001b[0;34m)\u001b[0m\u001b[0;34m\u001b[0m\u001b[0;34m\u001b[0m\u001b[0m\n",
            "\u001b[0;31mKeyboardInterrupt\u001b[0m: Interrupted by user"
          ]
        }
      ],
      "source": [
        "#start the chat\n",
        "print('DOC BOT: I am Doctor Bot and I will answer your queries. If you want to exit, type bye')\n",
        "\n",
        "exit_list = ['exit','see you later', 'bye', 'quit', 'break']\n",
        "while(True):\n",
        "  user_input = input()\n",
        "  if user_input.lower() in exit_list:\n",
        "    print('Doc Bot: Chat with you later')\n",
        "    break\n",
        "  else:\n",
        "    if greeting_response(user_input) != None:\n",
        "      print('Doc Bot: '+greeting_response(user_input))\n",
        "    else:\n",
        "      print('Doc Bot: '+bot_response(user_input))"
      ]
    },
    {
      "cell_type": "code",
      "execution_count": null,
      "metadata": {
        "id": "jz-KuoQf81Pw"
      },
      "outputs": [],
      "source": []
    }
  ],
  "metadata": {
    "colab": {
      "provenance": [],
      "authorship_tag": "ABX9TyMSud39MR7w+O7BdZnLcHQR",
      "include_colab_link": true
    },
    "kernelspec": {
      "display_name": "Python 3",
      "name": "python3"
    },
    "language_info": {
      "name": "python"
    }
  },
  "nbformat": 4,
  "nbformat_minor": 0
}